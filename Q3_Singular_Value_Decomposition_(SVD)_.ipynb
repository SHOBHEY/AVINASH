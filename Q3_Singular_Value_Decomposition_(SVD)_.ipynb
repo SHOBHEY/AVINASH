{
  "nbformat": 4,
  "nbformat_minor": 0,
  "metadata": {
    "colab": {
      "provenance": [],
      "authorship_tag": "ABX9TyMcAiqZ/rWLnM5MIlBQtHdK",
      "include_colab_link": true
    },
    "kernelspec": {
      "name": "python3",
      "display_name": "Python 3"
    },
    "language_info": {
      "name": "python"
    }
  },
  "cells": [
    {
      "cell_type": "markdown",
      "metadata": {
        "id": "view-in-github",
        "colab_type": "text"
      },
      "source": [
        "<a href=\"https://colab.research.google.com/github/SHOBHEY/AVINASH/blob/main/Q3_Singular_Value_Decomposition_(SVD)_.ipynb\" target=\"_parent\"><img src=\"https://colab.research.google.com/assets/colab-badge.svg\" alt=\"Open In Colab\"/></a>"
      ]
    },
    {
      "cell_type": "markdown",
      "source": [
        "# **Q3. Singular Value Decomposition (SVD):**"
      ],
      "metadata": {
        "id": "CLc4fhmkmr0Q"
      }
    },
    {
      "cell_type": "code",
      "source": [
        "import numpy as np\n",
        "\n",
        "np.random.seed(22)\n",
        "A = np.random.randint(0, 10, size=(5, 5))\n",
        "\n",
        "# Perform Singular Value Decomposition (SVD) on matrix A\n",
        "U, Sigma, Vt = np.linalg.svd(A)\n",
        "print(\"Matrix U:\")\n",
        "print(U)\n",
        "print(\"\\nMatrix Sigma (Diagonal matrix):\")\n",
        "print(np.diag(Sigma))\n",
        "print(\"\\nMatrix Vt (Transpose of V):\")\n",
        "print(Vt)\n",
        "A_reconstructed = np.dot(U, np.dot(np.diag(Sigma), Vt))\n",
        "print(\"\\nIs A equal to the product of U, Sigma, and Vt? \", np.allclose(A, A_reconstructed))\n",
        "\n",
        "# Rank 2 approximation of matrix A\n",
        "rank_2_approximation = np.dot(U[:, :2], np.dot(np.diag(Sigma[:2]), Vt[:2, :]))\n",
        "print(\"\\nRank 2 approximation of matrix A:\")\n",
        "print(rank_2_approximation)\n",
        "\n",
        "# Rank 3 approximation of matrix A\n",
        "rank_3_approximation = np.dot(U[:, :3], np.dot(np.diag(Sigma[:3]), Vt[:3, :]))\n",
        "print(\"\\nRank 3 approximation of matrix A:\")\n",
        "print(rank_3_approximation)\n"
      ],
      "metadata": {
        "id": "i5qyqpE2arMw",
        "outputId": "5f917ef3-688e-4248-d9ee-0f22c5e08938",
        "colab": {
          "base_uri": "https://localhost:8080/"
        }
      },
      "execution_count": 1,
      "outputs": [
        {
          "output_type": "stream",
          "name": "stdout",
          "text": [
            "Matrix U:\n",
            "[[-0.34966012  0.41846152 -0.11715402 -0.39622406  0.72932105]\n",
            " [-0.43353269 -0.41989712  0.28603192  0.61798002  0.41475566]\n",
            " [-0.62245303  0.49217946 -0.25866209  0.31889741 -0.44912133]\n",
            " [-0.39627638 -0.0739169   0.72897936 -0.47278946 -0.28733349]\n",
            " [-0.38118822 -0.63314456 -0.55330253 -0.36862144 -0.1086188 ]]\n",
            "\n",
            "Matrix Sigma (Diagonal matrix):\n",
            "[[24.70467411  0.          0.          0.          0.        ]\n",
            " [ 0.          9.70171042  0.          0.          0.        ]\n",
            " [ 0.          0.          5.3650222   0.          0.        ]\n",
            " [ 0.          0.          0.          2.36583297  0.        ]\n",
            " [ 0.          0.          0.          0.          1.08409568]]\n",
            "\n",
            "Matrix Vt (Transpose of V):\n",
            "[[-0.52137989 -0.47596069 -0.39381079 -0.43194117 -0.3999554 ]\n",
            " [ 0.23561627 -0.07513501 -0.86260941  0.24496765  0.36706343]\n",
            " [ 0.80887963 -0.15098564 -0.05458954 -0.34564554 -0.44773455]\n",
            " [ 0.05368171 -0.61558456  0.1576122   0.72095423 -0.27121453]\n",
            " [ 0.12441868 -0.60504144  0.27017855 -0.33789323  0.65671651]]\n",
            "\n",
            "Is A equal to the product of U, Sigma, and Vt?  True\n",
            "\n",
            "Rank 2 approximation of matrix A:\n",
            "[[ 5.4603574   3.80642979 -0.1001834   4.72572907  4.94511177]\n",
            " [ 4.62429187  5.40375308  7.73185471  3.6282829   2.78832215]\n",
            " [ 9.14258244  6.96031679  1.93688016  7.81189137  7.90303531]\n",
            " [ 4.93528073  4.71347832  4.47395466  4.05298047  3.65228623]\n",
            " [ 3.46260962  4.94370724  9.0072195   2.56291185  1.51171393]]\n",
            "\n",
            "Rank 3 approximation of matrix A:\n",
            "[[ 4.95194913  3.90132938 -0.06587203  4.94297901  5.22652812]\n",
            " [ 5.86557235  5.1720554   7.64808337  3.09786645  2.10124321]\n",
            " [ 8.02007767  7.16984377  2.01263558  8.29155331  8.524369  ]\n",
            " [ 8.09880124  4.12297491  4.2604555   2.70116406  1.90120068]\n",
            " [ 1.06146634  5.39190515  9.16926747  3.58895384  2.84080514]]\n"
          ]
        }
      ]
    }
  ]
}