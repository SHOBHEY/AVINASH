{
  "nbformat": 4,
  "nbformat_minor": 0,
  "metadata": {
    "colab": {
      "provenance": [],
      "authorship_tag": "ABX9TyOioP37NZ4VgZtAaBUBCifQ",
      "include_colab_link": true
    },
    "kernelspec": {
      "name": "python3",
      "display_name": "Python 3"
    },
    "language_info": {
      "name": "python"
    }
  },
  "cells": [
    {
      "cell_type": "markdown",
      "metadata": {
        "id": "view-in-github",
        "colab_type": "text"
      },
      "source": [
        "<a href=\"https://colab.research.google.com/github/SHOBHEY/AVINASH/blob/main/Markov_chain_Simulation.ipynb\" target=\"_parent\"><img src=\"https://colab.research.google.com/assets/colab-badge.svg\" alt=\"Open In Colab\"/></a>"
      ]
    },
    {
      "cell_type": "markdown",
      "source": [
        "# **Simulation on Financial conditions**"
      ],
      "metadata": {
        "id": "ZFa4fCLmH1Gq"
      }
    },
    {
      "cell_type": "markdown",
      "source": [
        "1. State Simulation"
      ],
      "metadata": {
        "id": "ZscHadvjIpI4"
      }
    },
    {
      "cell_type": "code",
      "source": [
        "import numpy as np\n",
        "\n",
        "def simulate_financial_market(P, u, N):\n",
        "    \"\"\"\n",
        "    Simulates a financial market using a Markov chain of length N.\n",
        "\n",
        "    Parameters:\n",
        "    - P: Transition probability matrix (3x3 for Bull, Bear, and Stagnant).\n",
        "    - u: Initial distribution vector ([P(Bull), P(Bear), P(Stagnant)]).\n",
        "    - N: Length of the Markov chain.\n",
        "\n",
        "    Returns:\n",
        "    - chain: List of states in the financial market (1 = Bull, 2 = Bear, 3 = Stagnant).\n",
        "    \"\"\"\n",
        "    states = ['Bull', 'Bear', 'Stagnant']  # Labels for the states\n",
        "    chain = []\n",
        "\n",
        "    # Step 1: Generate the initial state\n",
        "    U0 = np.random.uniform(0, 1)\n",
        "    cumulative_u = np.cumsum(u)\n",
        "    initial_state = np.where(U0 < cumulative_u)[0][0]\n",
        "    chain.append(initial_state)\n",
        "\n",
        "    # Step 2: Simulate transitions\n",
        "    for _ in range(N - 1):\n",
        "        current_state = chain[-1]\n",
        "        U_next = np.random.uniform(0, 1)\n",
        "        cumulative_p = np.cumsum(P[current_state])\n",
        "        next_state = np.where(U_next < cumulative_p)[0][0]\n",
        "        chain.append(next_state)\n",
        "\n",
        "    # Convert state indices to labels\n",
        "    labeled_chain = [states[state] for state in chain]\n",
        "    return labeled_chain\n",
        "\n",
        "# Example Usage\n",
        "P = np.array([\n",
        "    [0.6, 0.3, 0.1],  # Bull to Bull, Bear, Stagnant\n",
        "    [0.2, 0.7, 0.1],  # Bear to Bull, Bear, Stagnant\n",
        "    [0.3, 0.3, 0.4]   # Stagnant to Bull, Bear, Stagnant\n",
        "])\n",
        "u = [0.5, 0.1, 0.4]  # Initial probabilities for Bull, Bear, Stagnant\n",
        "N = 300  # Length of the simulation\n",
        "\n",
        "simulated_states = simulate_financial_market(P, u, N)\n",
        "print(\"Simulated Financial Market States:\", simulated_states)\n",
        "\n"
      ],
      "metadata": {
        "colab": {
          "base_uri": "https://localhost:8080/"
        },
        "id": "TEoyQSM5H0Ks",
        "outputId": "a1a3700c-c478-4764-cab8-9646d3f25082"
      },
      "execution_count": 1,
      "outputs": [
        {
          "output_type": "stream",
          "name": "stdout",
          "text": [
            "Simulated Financial Market States: ['Stagnant', 'Bull', 'Bull', 'Bull', 'Bear', 'Bear', 'Stagnant', 'Bull', 'Bull', 'Stagnant', 'Bull', 'Bull', 'Bull', 'Bull', 'Bull', 'Bear', 'Bear', 'Bear', 'Bear', 'Bull', 'Bull', 'Bull', 'Bull', 'Bull', 'Bull', 'Bear', 'Bear', 'Bear', 'Bear', 'Stagnant', 'Bear', 'Bear', 'Bull', 'Bull', 'Bull', 'Bull', 'Bull', 'Bear', 'Bull', 'Bear', 'Bear', 'Bear', 'Bear', 'Bear', 'Bull', 'Bear', 'Bear', 'Bear', 'Stagnant', 'Stagnant', 'Bear', 'Bear', 'Bear', 'Bull', 'Bear', 'Bear', 'Bear', 'Bear', 'Bear', 'Bear', 'Bull', 'Bear', 'Bear', 'Bear', 'Bear', 'Bear', 'Bull', 'Bear', 'Bear', 'Bear', 'Bear', 'Bear', 'Bear', 'Bear', 'Bear', 'Bear', 'Stagnant', 'Bear', 'Bear', 'Stagnant', 'Stagnant', 'Stagnant', 'Bull', 'Bear', 'Bear', 'Bear', 'Bear', 'Bear', 'Bull', 'Bear', 'Bear', 'Bull', 'Bull', 'Bull', 'Bull', 'Bull', 'Bull', 'Bull', 'Bull', 'Bull', 'Bull', 'Stagnant', 'Bull', 'Bear', 'Bear', 'Stagnant', 'Bear', 'Bear', 'Bull', 'Bull', 'Bull', 'Bull', 'Bear', 'Bull', 'Stagnant', 'Stagnant', 'Bull', 'Bull', 'Bull', 'Bull', 'Bear', 'Bear', 'Bear', 'Bear', 'Bear', 'Bear', 'Bear', 'Bear', 'Bear', 'Bear', 'Stagnant', 'Bear', 'Stagnant', 'Stagnant', 'Bull', 'Bull', 'Stagnant', 'Bull', 'Bull', 'Bull', 'Bear', 'Bear', 'Bear', 'Bear', 'Bear', 'Bear', 'Bear', 'Stagnant', 'Bull', 'Bear', 'Bear', 'Bear', 'Bear', 'Bull', 'Bull', 'Bear', 'Stagnant', 'Stagnant', 'Stagnant', 'Bull', 'Bear', 'Bear', 'Stagnant', 'Stagnant', 'Stagnant', 'Bear', 'Bear', 'Bear', 'Bear', 'Bear', 'Bear', 'Bull', 'Bull', 'Bear', 'Bear', 'Bull', 'Bull', 'Bull', 'Stagnant', 'Bull', 'Bull', 'Bull', 'Bull', 'Bear', 'Bear', 'Bull', 'Stagnant', 'Bull', 'Bull', 'Bull', 'Bear', 'Bear', 'Bear', 'Bear', 'Bear', 'Bear', 'Bear', 'Bear', 'Bear', 'Bull', 'Bull', 'Bear', 'Bear', 'Stagnant', 'Bull', 'Bull', 'Bear', 'Bear', 'Bear', 'Bear', 'Bear', 'Bear', 'Bear', 'Bear', 'Bear', 'Bear', 'Bull', 'Bull', 'Bull', 'Bear', 'Bull', 'Bear', 'Stagnant', 'Stagnant', 'Stagnant', 'Stagnant', 'Stagnant', 'Bear', 'Bull', 'Stagnant', 'Bear', 'Bull', 'Bull', 'Bull', 'Bull', 'Bear', 'Bear', 'Bear', 'Bull', 'Bull', 'Bull', 'Bear', 'Bear', 'Bull', 'Bull', 'Bear', 'Bear', 'Bull', 'Bull', 'Bull', 'Bear', 'Bull', 'Bull', 'Stagnant', 'Bear', 'Bull', 'Bull', 'Bull', 'Bear', 'Bear', 'Bear', 'Stagnant', 'Stagnant', 'Bear', 'Bull', 'Bull', 'Bear', 'Bear', 'Bear', 'Bear', 'Bear', 'Bear', 'Bull', 'Bull', 'Bull', 'Bear', 'Bull', 'Bear', 'Bear', 'Bear', 'Stagnant', 'Bull', 'Bull', 'Bear', 'Bear', 'Bear', 'Bear', 'Bear', 'Bear', 'Bear', 'Bear', 'Bear', 'Bear', 'Bear', 'Bear', 'Bull', 'Bear', 'Bull', 'Bull', 'Bear']\n"
          ]
        }
      ]
    },
    {
      "cell_type": "markdown",
      "source": [
        "2. Empirical Transition Probability Matrix"
      ],
      "metadata": {
        "id": "LcfqzETfIX9H"
      }
    },
    {
      "cell_type": "code",
      "source": [
        "import numpy as np\n",
        "import pandas as pd\n",
        "from collections import defaultdict\n",
        "\n",
        "def calculate_empirical_tpm(chain, states):\n",
        "    \"\"\"\n",
        "    Calculates the Empirical Transition Probability Matrix (ETPM) from a simulated Markov chain.\n",
        "\n",
        "    Parameters:\n",
        "    - chain: List of states in the simulated Markov chain.\n",
        "    - states: List of unique state labels (e.g., ['Bull', 'Bear', 'Stagnant']).\n",
        "\n",
        "    Returns:\n",
        "    - ETPM: Pandas DataFrame representing the empirical transition probabilities.\n",
        "    \"\"\"\n",
        "    num_states = len(states)\n",
        "    state_index = {state: i for i, state in enumerate(states)}  # Map state labels to indices\n",
        "    transition_counts = np.zeros((num_states, num_states))\n",
        "\n",
        "    # Count transitions\n",
        "    for i in range(len(chain) - 1):\n",
        "        current_state = state_index[chain[i]]\n",
        "        next_state = state_index[chain[i + 1]]\n",
        "        transition_counts[current_state, next_state] += 1\n",
        "\n",
        "    # Calculate empirical probabilities\n",
        "    ETPM = np.zeros((num_states, num_states))\n",
        "    for i in range(num_states):\n",
        "        row_sum = np.sum(transition_counts[i])\n",
        "        if row_sum > 0:\n",
        "            ETPM[i] = transition_counts[i] / row_sum\n",
        "\n",
        "    # Convert to DataFrame for better readability\n",
        "    ETPM_df = pd.DataFrame(ETPM, index=states, columns=states)\n",
        "    return ETPM_df\n",
        "\n",
        "# Example usage\n",
        "states = ['Bull', 'Bear', 'Stagnant']\n",
        "etpm = calculate_empirical_tpm(simulated_states, states)\n",
        "print(\"Empirical Transition Probability Matrix (ETPM):\")\n",
        "print(etpm)"
      ],
      "metadata": {
        "colab": {
          "base_uri": "https://localhost:8080/"
        },
        "id": "dgdHgXO9I5PE",
        "outputId": "d473e6a3-a708-4747-8846-1d4ee47cb86a"
      },
      "execution_count": 2,
      "outputs": [
        {
          "output_type": "stream",
          "name": "stdout",
          "text": [
            "Empirical Transition Probability Matrix (ETPM):\n",
            "              Bull      Bear  Stagnant\n",
            "Bull      0.588785  0.336449  0.074766\n",
            "Bear      0.194805  0.707792  0.097403\n",
            "Stagnant  0.368421  0.263158  0.368421\n"
          ]
        }
      ]
    },
    {
      "cell_type": "markdown",
      "source": [
        "# **Simulation on Machine conditions**"
      ],
      "metadata": {
        "id": "jU9M2V94JD-C"
      }
    },
    {
      "cell_type": "code",
      "source": [
        "import numpy as np\n",
        "import pandas as pd\n",
        "from collections import defaultdict\n",
        "\n",
        "def simulate_markov_chain(P, u, N):\n",
        "    \"\"\"\n",
        "    Simulates a Markov chain of length N for the machine model.\n",
        "\n",
        "    Parameters:\n",
        "    - P: Transition probability matrix (2x2).\n",
        "    - u: Initial distribution vector (length 2).\n",
        "    - N: Length of the Markov chain.\n",
        "\n",
        "    Returns:\n",
        "    - chain: List of states in the Markov chain.\n",
        "    \"\"\"\n",
        "    k = len(u)  # Number of states (2 states: working, not working)\n",
        "    chain = []\n",
        "\n",
        "    # Step 1: Generate the initial state\n",
        "    U0 = np.random.uniform(0, 1)\n",
        "    cumulative_u = np.cumsum(u)\n",
        "    X0 = np.where(U0 < cumulative_u)[0][0]\n",
        "    chain.append(X0)\n",
        "\n",
        "    # Step 2: Simulate transitions\n",
        "    for _ in range(N - 1):\n",
        "        current_state = chain[-1]\n",
        "        U_next = np.random.uniform(0, 1)\n",
        "        cumulative_p = np.cumsum(P[current_state])\n",
        "        next_state = np.where(U_next < cumulative_p)[0][0]\n",
        "        chain.append(next_state)\n",
        "\n",
        "    return chain\n",
        "\n",
        "def calculate_empirical_tpm(chain, states):\n",
        "    \"\"\"\n",
        "    Calculates the Empirical Transition Probability Matrix (ETPM) from a simulated Markov chain.\n",
        "\n",
        "    Parameters:\n",
        "    - chain: List of states in the simulated Markov chain.\n",
        "    - states: List of unique state labels (e.g., ['Working', 'Not Working']).\n",
        "\n",
        "    Returns:\n",
        "    - ETPM: Pandas DataFrame representing the empirical transition probabilities.\n",
        "    \"\"\"\n",
        "    num_states = len(states)\n",
        "    transition_counts = np.zeros((num_states, num_states))\n",
        "\n",
        "    # Count transitions\n",
        "    for i in range(len(chain) - 1):\n",
        "        current_state = chain[i]\n",
        "        next_state = chain[i + 1]\n",
        "        transition_counts[current_state, next_state] += 1\n",
        "\n",
        "    # Calculate empirical probabilities\n",
        "    ETPM = np.zeros((num_states, num_states))\n",
        "    for i in range(num_states):\n",
        "        row_sum = np.sum(transition_counts[i])\n",
        "        if row_sum > 0:\n",
        "            ETPM[i] = transition_counts[i] / row_sum\n",
        "\n",
        "    # Convert to DataFrame for better readability\n",
        "    ETPM_df = pd.DataFrame(ETPM, index=states, columns=states)\n",
        "    return ETPM_df\n",
        "\n",
        "# Example usage\n",
        "P = np.array([[0.8, 0.2],\n",
        "              [0.3, 0.7]])\n",
        "u = [0.5, 0.5]  # Initial distribution (50% chance for each state)\n",
        "N = 100  # Number of steps\n",
        "\n",
        "# Simulate the Markov chain for the machine model\n",
        "simulated_states = simulate_markov_chain(P, u, N)\n",
        "print(\"Simulated Machine States:\", simulated_states)\n",
        "\n",
        "# Calculate and print the Empirical Transition Probability Matrix (ETPM)\n",
        "states = ['Working', 'Not Working']  # State labels\n",
        "etpm = calculate_empirical_tpm(simulated_states, states)\n",
        "print(\"\\nEmpirical Transition Probability Matrix (ETPM):\")\n",
        "print(etpm)"
      ],
      "metadata": {
        "colab": {
          "base_uri": "https://localhost:8080/"
        },
        "id": "8vdtqrx9IWeF",
        "outputId": "9c99db11-5b4f-47c2-f746-0fca285a95a8"
      },
      "execution_count": 3,
      "outputs": [
        {
          "output_type": "stream",
          "name": "stdout",
          "text": [
            "Simulated Machine States: [1, 1, 1, 1, 1, 1, 1, 1, 0, 0, 0, 0, 0, 0, 0, 0, 1, 0, 0, 0, 0, 0, 0, 1, 1, 1, 1, 1, 1, 0, 0, 0, 0, 1, 1, 1, 0, 0, 0, 1, 0, 0, 1, 1, 1, 0, 1, 1, 1, 1, 1, 1, 1, 1, 1, 1, 0, 0, 0, 0, 0, 0, 0, 0, 0, 0, 0, 0, 0, 0, 0, 0, 1, 1, 1, 0, 0, 0, 0, 1, 1, 0, 0, 0, 1, 0, 1, 1, 1, 0, 1, 0, 0, 0, 1, 1, 0, 0, 0, 0]\n",
            "\n",
            "Empirical Transition Probability Matrix (ETPM):\n",
            "              Working  Not Working\n",
            "Working      0.781818     0.218182\n",
            "Not Working  0.295455     0.704545\n"
          ]
        }
      ]
    },
    {
      "cell_type": "markdown",
      "source": [
        "# **Simulation on Weather conditions**"
      ],
      "metadata": {
        "id": "iwDcRNiNJVAG"
      }
    },
    {
      "cell_type": "code",
      "source": [
        "import numpy as np\n",
        "import pandas as pd\n",
        "from collections import defaultdict\n",
        "\n",
        "# Step 1: Simulating the Weather Model\n",
        "def simulate_weather_model(P, u, N):\n",
        "    \"\"\"\n",
        "    Simulates the weather model using a Markov chain.\n",
        "\n",
        "    Parameters:\n",
        "    - P: Transition probability matrix (3x3).\n",
        "    - u: Initial distribution vector (length 3).\n",
        "    - N: Length of the Markov chain (number of steps).\n",
        "\n",
        "    Returns:\n",
        "    - chain: List of states in the Markov chain representing the weather.\n",
        "    \"\"\"\n",
        "    k = len(u)  # Number of states (3: Sunny, Rainy, Winter)\n",
        "    chain = []\n",
        "\n",
        "    # Step 1: Generate the initial state\n",
        "    U0 = np.random.uniform(0, 1)\n",
        "    cumulative_u = np.cumsum(u)\n",
        "    X0 = np.where(U0 < cumulative_u)[0][0]  # Initial state: 0 (Sunny), 1 (Rainy), or 2 (Winter)\n",
        "    chain.append(X0)\n",
        "\n",
        "    # Step 2: Simulate transitions\n",
        "    for _ in range(N - 1):\n",
        "        current_state = chain[-1]\n",
        "        U_next = np.random.uniform(0, 1)\n",
        "        cumulative_p = np.cumsum(P[current_state])\n",
        "        next_state = np.where(U_next < cumulative_p)[0][0]  # Next state: 0 (Sunny), 1 (Rainy), 2 (Winter)\n",
        "        chain.append(next_state)\n",
        "\n",
        "    return chain\n",
        "\n",
        "\n",
        "# Step 2: Calculate Empirical Transition Probability Matrix (ETPM)\n",
        "def infer_empirical_tpm(simulated_chain):\n",
        "    \"\"\"\n",
        "    Infers the Empirical Transition Probability Matrix (ETPM) from observed states.\n",
        "\n",
        "    Parameters:\n",
        "    - simulated_chain: Sequence of observed states.\n",
        "\n",
        "    Returns:\n",
        "    - pd.DataFrame: Empirical TPM.\n",
        "    \"\"\"\n",
        "    # Step 1: Identify unique states\n",
        "    unique_states = sorted(list(set(simulated_chain)))\n",
        "\n",
        "    # Step 2: Count transitions\n",
        "    transition_counts = defaultdict(lambda: defaultdict(int))\n",
        "    for (current_state, next_state) in zip(simulated_chain[:-1], simulated_chain[1:]):\n",
        "        transition_counts[current_state][next_state] += 1\n",
        "\n",
        "    # Convert counts to DataFrame\n",
        "    transition_df = pd.DataFrame(transition_counts).fillna(0).astype(int)\n",
        "\n",
        "    # Step 3: Calculate TPM\n",
        "    TPM = pd.DataFrame(columns=unique_states, index=unique_states).fillna(0.0)\n",
        "    for state in unique_states:\n",
        "        total_transitions = sum(transition_counts[state].values())\n",
        "        if total_transitions > 0:\n",
        "            for next_state in unique_states:\n",
        "                TPM.loc[state, next_state] = transition_counts[state][next_state] / total_transitions\n",
        "        else:\n",
        "            # If no outgoing transitions, assign equal probabilities\n",
        "            TPM.loc[state] = 1.0 / len(unique_states)\n",
        "\n",
        "    return TPM\n",
        "\n",
        "\n",
        "# Example usage for the Weather Model simulation\n",
        "P = np.array([\n",
        "    [0.6, 0.3, 0.1],  # Sunny (0): 60% Sunny, 30% Rainy, 10% Winter\n",
        "    [0.5, 0.4, 0.1],  # Rainy (1): 50% Sunny, 40% Rainy, 10% Winter\n",
        "    [0.3, 0.2, 0.5],  # Winter (2): 30% Sunny, 20% Rainy, 50% Winter\n",
        "])\n",
        "\n",
        "u = [0.5, 0.3, 0.2]  # Initial distribution: 50% Sunny, 30% Rainy, 20% Winter\n",
        "N = 1000  # Number of steps in the Markov chain\n",
        "\n",
        "# Simulate the weather states\n",
        "simulated_weather = simulate_weather_model(P, u, N)\n",
        "print(\"Simulated Weather States:\", simulated_weather)\n",
        "\n",
        "# Infer the Empirical Transition Probability Matrix (ETPM)\n",
        "empirical_TPM = infer_empirical_tpm(simulated_weather)\n",
        "print(\"\\nEmpirical Transition Probability Matrix (ETPM):\")\n",
        "print(empirical_TPM)"
      ],
      "metadata": {
        "colab": {
          "base_uri": "https://localhost:8080/"
        },
        "id": "mbLw-N3OIWbU",
        "outputId": "198c7c5a-cb93-43a4-971d-aae2bbc13047"
      },
      "execution_count": 4,
      "outputs": [
        {
          "output_type": "stream",
          "name": "stdout",
          "text": [
            "Simulated Weather States: [2, 2, 1, 0, 1, 0, 0, 0, 0, 0, 0, 0, 2, 2, 0, 2, 2, 0, 1, 1, 1, 0, 0, 0, 0, 2, 2, 1, 1, 0, 0, 0, 0, 0, 1, 1, 0, 1, 0, 0, 1, 0, 1, 0, 0, 0, 0, 1, 1, 0, 0, 0, 1, 0, 2, 0, 1, 0, 0, 0, 1, 2, 2, 2, 0, 1, 0, 1, 0, 0, 1, 1, 0, 2, 1, 0, 0, 0, 2, 0, 1, 1, 1, 0, 1, 2, 2, 2, 1, 2, 2, 0, 0, 1, 0, 0, 0, 0, 1, 0, 1, 1, 0, 0, 0, 0, 2, 2, 0, 0, 1, 1, 0, 1, 1, 1, 1, 0, 0, 1, 0, 0, 0, 1, 0, 0, 0, 0, 1, 0, 0, 0, 0, 0, 1, 1, 1, 2, 2, 0, 1, 2, 1, 1, 0, 0, 1, 0, 0, 0, 2, 2, 0, 0, 1, 0, 0, 1, 1, 0, 2, 2, 1, 1, 0, 2, 2, 2, 2, 2, 2, 2, 2, 1, 1, 1, 2, 2, 1, 1, 0, 0, 1, 1, 1, 1, 0, 0, 2, 1, 0, 0, 0, 0, 0, 0, 2, 1, 0, 1, 1, 1, 0, 0, 0, 1, 1, 1, 0, 1, 2, 2, 1, 0, 0, 2, 0, 0, 2, 2, 0, 1, 0, 0, 0, 0, 0, 2, 0, 1, 1, 2, 0, 2, 2, 2, 2, 2, 2, 1, 1, 1, 0, 0, 0, 0, 0, 0, 0, 0, 0, 1, 0, 0, 0, 1, 1, 2, 2, 2, 1, 1, 1, 2, 0, 1, 1, 1, 0, 0, 0, 0, 1, 1, 1, 0, 1, 1, 1, 1, 1, 1, 2, 0, 0, 0, 0, 1, 1, 0, 0, 0, 0, 0, 0, 0, 1, 0, 1, 0, 1, 0, 0, 1, 0, 2, 2, 0, 2, 2, 1, 0, 0, 0, 0, 1, 2, 0, 1, 0, 0, 1, 1, 0, 0, 0, 0, 0, 0, 0, 2, 1, 1, 0, 2, 0, 2, 2, 0, 0, 0, 0, 0, 1, 0, 0, 1, 0, 0, 0, 1, 1, 0, 1, 1, 0, 1, 2, 2, 2, 0, 0, 0, 0, 2, 0, 0, 1, 1, 1, 0, 0, 0, 1, 2, 2, 1, 0, 0, 0, 1, 1, 1, 0, 0, 1, 1, 0, 0, 1, 1, 0, 0, 0, 0, 0, 1, 1, 0, 2, 2, 0, 1, 2, 0, 1, 0, 1, 0, 0, 0, 0, 1, 1, 0, 1, 1, 2, 1, 0, 0, 1, 2, 2, 2, 2, 2, 2, 0, 0, 1, 0, 0, 1, 2, 1, 1, 1, 1, 0, 0, 1, 0, 0, 1, 1, 0, 0, 1, 1, 0, 1, 1, 0, 1, 0, 1, 1, 0, 1, 1, 0, 2, 2, 0, 1, 1, 1, 0, 2, 1, 0, 1, 1, 0, 0, 1, 2, 2, 1, 1, 1, 0, 0, 2, 2, 0, 1, 0, 2, 0, 0, 0, 0, 0, 0, 1, 1, 1, 0, 0, 1, 1, 1, 1, 0, 2, 0, 0, 1, 1, 1, 1, 0, 0, 0, 0, 1, 0, 0, 0, 1, 0, 0, 0, 0, 1, 0, 2, 1, 2, 0, 0, 0, 0, 0, 1, 0, 0, 0, 0, 0, 1, 2, 0, 2, 1, 0, 0, 0, 0, 2, 2, 2, 0, 0, 1, 0, 1, 1, 1, 1, 2, 2, 1, 0, 2, 2, 1, 0, 0, 0, 0, 0, 0, 0, 1, 1, 2, 0, 0, 0, 0, 1, 0, 0, 0, 2, 2, 2, 0, 1, 1, 2, 2, 2, 2, 2, 1, 0, 1, 1, 1, 0, 2, 2, 2, 2, 0, 0, 2, 0, 0, 1, 1, 1, 2, 1, 0, 2, 0, 0, 1, 1, 0, 0, 1, 1, 1, 0, 0, 1, 1, 0, 1, 0, 0, 0, 0, 1, 1, 0, 0, 0, 0, 0, 0, 1, 0, 0, 0, 0, 0, 0, 0, 0, 0, 0, 1, 0, 0, 1, 0, 0, 1, 0, 1, 1, 1, 0, 0, 1, 2, 1, 0, 0, 0, 1, 0, 0, 0, 0, 1, 2, 2, 0, 0, 1, 2, 0, 0, 1, 0, 2, 0, 1, 1, 0, 1, 1, 0, 1, 2, 0, 0, 0, 0, 1, 1, 0, 0, 0, 1, 0, 1, 1, 1, 0, 0, 1, 2, 1, 0, 0, 0, 1, 0, 0, 1, 2, 1, 2, 0, 0, 0, 2, 2, 2, 1, 1, 0, 0, 0, 0, 0, 0, 1, 0, 0, 1, 0, 1, 1, 0, 0, 0, 1, 1, 1, 0, 0, 1, 1, 1, 0, 2, 2, 0, 1, 0, 2, 2, 2, 2, 0, 1, 0, 1, 0, 2, 2, 2, 2, 2, 2, 2, 1, 1, 2, 2, 1, 0, 1, 2, 0, 2, 2, 0, 2, 0, 1, 0, 2, 0, 0, 1, 1, 0, 1, 1, 1, 0, 0, 1, 0, 0, 0, 2, 2, 0, 0, 0, 0, 0, 2, 2, 2, 2, 2, 0, 1, 0, 0, 0, 1, 0, 0, 0, 2, 1, 0, 0, 0, 2, 2, 2, 0, 1, 0, 0, 0, 0, 0, 0, 1, 0, 0, 1, 0, 2, 1, 0, 1, 0, 0, 1, 0, 0, 1, 1, 1, 1, 1, 0, 1, 0, 0, 0, 1, 0, 0, 0, 2, 0, 2, 0, 2, 1, 2, 2, 2, 0, 0, 1, 1, 0, 1, 0, 2, 2, 2, 2, 0, 1, 1, 0, 1, 1, 1, 1, 1, 0, 1, 1, 0, 0, 0, 0, 0, 1, 0, 0, 1, 0, 0, 2, 0, 0, 0, 1, 1, 2, 2, 2, 2, 0, 0, 2, 2, 0, 0, 2, 0, 0, 0, 1, 0, 0, 0, 0, 0, 0, 1, 1, 0, 0, 2, 0, 0, 0, 0, 0, 0, 1, 0, 1, 0, 1, 1, 0, 0, 1, 1, 2, 1, 0, 1, 0, 1, 0, 0, 0, 0, 1, 0, 1, 0, 1, 0, 0, 0, 0, 0, 1, 1, 0, 0, 0, 0, 1]\n",
            "\n",
            "Empirical Transition Probability Matrix (ETPM):\n",
            "          0         1         2\n",
            "0  0.561616  0.323232  0.115152\n",
            "1  0.493750  0.390625  0.115625\n",
            "2  0.320652  0.195652  0.483696\n"
          ]
        },
        {
          "output_type": "stream",
          "name": "stderr",
          "text": [
            "<ipython-input-4-70cc758723c6>:61: FutureWarning: Downcasting object dtype arrays on .fillna, .ffill, .bfill is deprecated and will change in a future version. Call result.infer_objects(copy=False) instead. To opt-in to the future behavior, set `pd.set_option('future.no_silent_downcasting', True)`\n",
            "  TPM = pd.DataFrame(columns=unique_states, index=unique_states).fillna(0.0)\n"
          ]
        }
      ]
    },
    {
      "cell_type": "markdown",
      "source": [
        "# **Convergence of Empirical Distribution**"
      ],
      "metadata": {
        "id": "46z75_0DJnXY"
      }
    },
    {
      "cell_type": "code",
      "source": [
        "import numpy as np\n",
        "import matplotlib.pyplot as plt\n",
        "\n",
        "def simulate_markov_chain(u, P, N):\n",
        "    states = np.arange(len(u))\n",
        "    current_state = np.random.choice(states, p=u)\n",
        "    simulated_chain = [current_state]\n",
        "    for _ in range(N - 1):\n",
        "        current_state = np.random.choice(states, p=P[current_state])\n",
        "        simulated_chain.append(current_state)\n",
        "    return simulated_chain\n",
        "\n",
        "def empirical_distribution(simulated_chain, num_states):\n",
        "    counts = np.zeros(num_states)\n",
        "    for state in simulated_chain:\n",
        "        counts[state] += 1\n",
        "    return counts / len(simulated_chain)\n",
        "\n",
        "# Parameters\n",
        "u = [0.5, 0.1, 0.4]  # Initial distribution\n",
        "P = [[0.6, 0.3, 0.1],\n",
        "     [0.2, 0.7, 0.1],\n",
        "     [0.3, 0.3, 0.4]]  # TPM\n",
        "N = 1000  # Length of the chain\n",
        "\n",
        "# Simulate Markov chain\n",
        "simulated_chain = simulate_markov_chain(u, P, N)\n",
        "\n",
        "# Compute empirical distribution at different steps\n",
        "empirical_distributions = []\n",
        "steps = [10, 50, 100, 500, 1000]\n",
        "for step in steps:\n",
        "    empirical_distributions.append(empirical_distribution(simulated_chain[:step], len(u)))\n",
        "\n",
        "# Display results\n",
        "for i, dist in zip(steps, empirical_distributions):\n",
        "    print(f\"Empirical distribution after {i} steps: {dist}\")\n",
        "\n",
        "# Plotting convergence\n",
        "stationary_distribution = np.linalg.matrix_power(P, 1000)[0]  # Approximation\n",
        "plt.figure(figsize=(8, 6))\n",
        "for i in range(len(u)):\n",
        "    plt.plot(steps, [dist[i] for dist in empirical_distributions], label=f\"State {i+1}\")\n",
        "plt.axhline(y=stationary_distribution[0], color='r', linestyle='--', label=\"Stationary Dist. (State 1)\")\n",
        "plt.axhline(y=stationary_distribution[1], color='g', linestyle='--', label=\"Stationary Dist. (State 2)\")\n",
        "plt.axhline(y=stationary_distribution[2], color='b', linestyle='--', label=\"Stationary Dist. (State 3)\")\n",
        "plt.xlabel(\"Number of Steps\")\n",
        "plt.ylabel(\"Empirical Probability\")\n",
        "plt.title(\"Convergence of Empirical Distribution\")\n",
        "plt.legend()\n",
        "plt.show()"
      ],
      "metadata": {
        "colab": {
          "base_uri": "https://localhost:8080/",
          "height": 651
        },
        "id": "22rvJQ9VIWZM",
        "outputId": "7440ba49-e2a5-46c2-d9bb-4e9c96d78b1c"
      },
      "execution_count": 5,
      "outputs": [
        {
          "output_type": "stream",
          "name": "stdout",
          "text": [
            "Empirical distribution after 10 steps: [0.2 0.6 0.2]\n",
            "Empirical distribution after 50 steps: [0.48 0.42 0.1 ]\n",
            "Empirical distribution after 100 steps: [0.43 0.46 0.11]\n",
            "Empirical distribution after 500 steps: [0.42  0.444 0.136]\n",
            "Empirical distribution after 1000 steps: [0.373 0.48  0.147]\n"
          ]
        },
        {
          "output_type": "display_data",
          "data": {
            "text/plain": [
              "<Figure size 800x600 with 1 Axes>"
            ],
            "image/png": "[encoded data removed]"
          },
          "metadata": {}
        }
      ]
    },
    {
      "cell_type": "markdown",
      "source": [
        "# **Verifying Stationary Distribution**"
      ],
      "metadata": {
        "id": "GiXEvv29J1HC"
      }
    },
    {
      "cell_type": "code",
      "source": [
        "import numpy as np\n",
        "\n",
        "def check_stationary_distribution(pi, P, tolerance=1e-6):\n",
        "    \"\"\"\n",
        "    Verifies if pi is a stationary distribution for the given TPM P.\n",
        "\n",
        "    Parameters:\n",
        "        pi (np.array): Candidate stationary distribution.\n",
        "        P (2D np.array): Transition Probability Matrix (TPM).\n",
        "        tolerance (float): Numerical tolerance for equality check.\n",
        "\n",
        "    Returns:\n",
        "        bool: True if pi is a stationary distribution, False otherwise.\n",
        "    \"\"\"\n",
        "    # Compute pi * P\n",
        "    pi_dot_P = np.dot(pi, P)\n",
        "\n",
        "    # Check if pi * P is approximately equal to pi\n",
        "    return np.allclose(pi_dot_P, pi, atol=tolerance), pi_dot_P\n",
        "\n",
        "# Transition Probability Matrix\n",
        "P = np.array([\n",
        "    [0.6, 0.3, 0.1],\n",
        "    [0.2, 0.7, 0.1],\n",
        "    [0.3, 0.3, 0.4]\n",
        "])\n",
        "\n",
        "# Revised stationary distribution\n",
        "pi = np.array([0.35714286, 0.5, 0.14285714])\n",
        "\n",
        "# Check if pi satisfies pi = pi * P\n",
        "is_stationary, pi_dot_P = check_stationary_distribution(pi, P)\n",
        "print(\"Is pi a stationary distribution?\", is_stationary)\n",
        "print(\"Computed value of pi * P:\", pi_dot_P)"
      ],
      "metadata": {
        "colab": {
          "base_uri": "https://localhost:8080/"
        },
        "id": "EmpuQ8_aIWXR",
        "outputId": "6eab93e4-dad8-4c3f-b967-4b1f1971a2bd"
      },
      "execution_count": 6,
      "outputs": [
        {
          "output_type": "stream",
          "name": "stdout",
          "text": [
            "Is pi a stationary distribution? True\n",
            "Computed value of pi * P: [0.35714286 0.5        0.14285714]\n"
          ]
        }
      ]
    },
    {
      "cell_type": "code",
      "source": [],
      "metadata": {
        "id": "cULfPlutIWVW"
      },
      "execution_count": null,
      "outputs": []
    },
    {
      "cell_type": "code",
      "source": [],
      "metadata": {
        "id": "IW1F5YQsIWTk"
      },
      "execution_count": null,
      "outputs": []
    },
    {
      "cell_type": "code",
      "source": [],
      "metadata": {
        "id": "FZOA5qjPIWQ7"
      },
      "execution_count": null,
      "outputs": []
    },
    {
      "cell_type": "code",
      "source": [],
      "metadata": {
        "id": "wOXss5CjIWOh"
      },
      "execution_count": null,
      "outputs": []
    },
    {
      "cell_type": "code",
      "execution_count": null,
      "metadata": {
        "id": "cToWCljlHrKe"
      },
      "outputs": [],
      "source": []
    }
  ]
}