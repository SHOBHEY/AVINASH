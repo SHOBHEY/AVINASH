{
  "nbformat": 4,
  "nbformat_minor": 0,
  "metadata": {
    "colab": {
      "provenance": [],
      "authorship_tag": "ABX9TyPngkDtEQb+GoyprgBbwK/b",
      "include_colab_link": true
    },
    "kernelspec": {
      "name": "python3",
      "display_name": "Python 3"
    },
    "language_info": {
      "name": "python"
    }
  },
  "cells": [
    {
      "cell_type": "markdown",
      "metadata": {
        "id": "view-in-github",
        "colab_type": "text"
      },
      "source": [
        "<a href=\"https://colab.research.google.com/github/SHOBHEY/AVINASH/blob/main/Q2_Row_Echelon_Form_.ipynb\" target=\"_parent\"><img src=\"https://colab.research.google.com/assets/colab-badge.svg\" alt=\"Open In Colab\"/></a>"
      ]
    },
    {
      "cell_type": "markdown",
      "source": [
        "# **Q2. Row Echelon Form:**"
      ],
      "metadata": {
        "id": "BdCfL-NzmtT3"
      }
    },
    {
      "cell_type": "code",
      "source": [
        "import numpy as np\n",
        "\n",
        "# To Set the random seed using the last two digits of my roll number i.e. 09\n",
        "np.random.seed(9)\n",
        "\n",
        "A = np.random.randint(0, 10, size=(5, 5))\n",
        "\n",
        "def reduce_to_row_echelon_form(matrix):\n",
        "    num_rows, num_cols = matrix.shape\n",
        "    lead = 0\n",
        "    for r in range(num_rows):\n",
        "        if lead >= num_cols:\n",
        "            break\n",
        "        i = r\n",
        "        while matrix[i, lead] == 0:\n",
        "            i += 1\n",
        "            if i == num_rows:\n",
        "                i = r\n",
        "                lead += 1\n",
        "                if num_cols == lead:\n",
        "                    return matrix\n",
        "        matrix[[i, r]] = matrix[[r, i]]\n",
        "        if matrix[r, lead] != 0:\n",
        "            matrix[r] = matrix[r] / matrix[r, lead]\n",
        "        for i in range(num_rows):\n",
        "            if i != r:\n",
        "                matrix[i] = matrix[i] - matrix[i, lead] * matrix[r]\n",
        "        lead += 1\n",
        "    return matrix\n",
        "\n",
        "row_echelon_A = reduce_to_row_echelon_form(A)\n",
        "print(\"Original matrix A:\")\n",
        "print(A)\n",
        "print(\"\\nRow Echelon Form of matrix A:\")\n",
        "print(row_echelon_A)\n"
      ],
      "metadata": {
        "id": "KRqj5MyUarH2",
        "outputId": "b10f40e0-79e4-4114-e20b-e3d0660eacd3",
        "colab": {
          "base_uri": "https://localhost:8080/"
        }
      },
      "execution_count": 1,
      "outputs": [
        {
          "output_type": "stream",
          "name": "stdout",
          "text": [
            "Original matrix A:\n",
            "[[1 0 0 0 0]\n",
            " [0 1 0 0 0]\n",
            " [0 0 1 0 0]\n",
            " [0 0 0 1 0]\n",
            " [0 0 0 0 1]]\n",
            "\n",
            "Row Echelon Form of matrix A:\n",
            "[[1 0 0 0 0]\n",
            " [0 1 0 0 0]\n",
            " [0 0 1 0 0]\n",
            " [0 0 0 1 0]\n",
            " [0 0 0 0 1]]\n"
          ]
        }
      ]
    }
  ]
}